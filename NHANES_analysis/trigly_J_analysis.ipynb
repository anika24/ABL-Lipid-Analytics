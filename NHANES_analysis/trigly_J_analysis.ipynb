{
 "cells": [
  {
   "cell_type": "code",
   "execution_count": 1,
   "metadata": {},
   "outputs": [],
   "source": [
    "import pandas as pd\n",
    "import pyreadstat\n",
    "import matplotlib.pyplot as plt\n",
    "import numpy as np"
   ]
  },
  {
   "cell_type": "code",
   "execution_count": 2,
   "metadata": {},
   "outputs": [],
   "source": [
    "def convert_xpt_to_dataframe(xpt_file):\n",
    "    df, _ = pyreadstat.read_xport(xpt_file)\n",
    "    return df"
   ]
  },
  {
   "cell_type": "code",
   "execution_count": 3,
   "metadata": {},
   "outputs": [],
   "source": [
    "import os\n",
    "os.chdir('/Users/anika/Desktop/ABL-Web-App/NHANES_analysis')"
   ]
  },
  {
   "cell_type": "markdown",
   "metadata": {},
   "source": [
    "### All participants with LDL-C levels"
   ]
  },
  {
   "cell_type": "code",
   "execution_count": 4,
   "metadata": {},
   "outputs": [
    {
     "data": {
      "text/plain": [
       "2808"
      ]
     },
     "execution_count": 4,
     "metadata": {},
     "output_type": "execute_result"
    }
   ],
   "source": [
    "df_ldlc = convert_xpt_to_dataframe('data17-18/TRIGLY_J.XPT')\n",
    "df_ldlc = df_ldlc[['SEQN', 'LBXTR', 'LBDLDL', 'LBDLDLSI']]\n",
    "df_ldlc = df_ldlc.dropna(subset=['LBDLDL']) # ldl-c levels, using friedman formula and in mg/dL\n",
    "len(df_ldlc)"
   ]
  },
  {
   "cell_type": "code",
   "execution_count": 5,
   "metadata": {},
   "outputs": [
    {
     "data": {
      "text/plain": [
       "2699"
      ]
     },
     "execution_count": 5,
     "metadata": {},
     "output_type": "execute_result"
    }
   ],
   "source": [
    "df2_ldlc = convert_xpt_to_dataframe('data15-16/TRIGLY_I.XPT')\n",
    "df2_ldlc = df2_ldlc[['SEQN', 'LBXTR', 'LBDLDL', 'LBDLDLSI']]\n",
    "df2_ldlc = df2_ldlc.dropna(subset=['LBDLDL']) # ldl-c levels, using friedman formula and in mg/dL\n",
    "len(df2_ldlc)"
   ]
  },
  {
   "cell_type": "code",
   "execution_count": 6,
   "metadata": {},
   "outputs": [
    {
     "data": {
      "text/plain": [
       "3105"
      ]
     },
     "execution_count": 6,
     "metadata": {},
     "output_type": "execute_result"
    }
   ],
   "source": [
    "df3_ldlc = convert_xpt_to_dataframe('data13-14/TRIGLY_H.XPT')\n",
    "df3_ldlc = df3_ldlc[['SEQN', 'LBXTR', 'LBDLDL', 'LBDLDLSI']]\n",
    "df3_ldlc = df3_ldlc.dropna(subset=['LBDLDL']) # ldl-c levels, using friedman formula and in mg/dL\n",
    "len(df3_ldlc)"
   ]
  },
  {
   "cell_type": "markdown",
   "metadata": {},
   "source": [
    "### All participants with APO-b levels"
   ]
  },
  {
   "cell_type": "code",
   "execution_count": 7,
   "metadata": {},
   "outputs": [
    {
     "data": {
      "text/plain": [
       "2722"
      ]
     },
     "execution_count": 7,
     "metadata": {},
     "output_type": "execute_result"
    }
   ],
   "source": [
    "df2_apo = convert_xpt_to_dataframe('data15-16/APOB_I.XPT')\n",
    "df2_apo = df2_apo[['SEQN', 'LBXAPB']]\n",
    "df2_apo = df2_apo.dropna(subset=['LBXAPB']) # apo-b levels, in mg/dL\n",
    "len(df2_apo)"
   ]
  },
  {
   "cell_type": "code",
   "execution_count": 8,
   "metadata": {},
   "outputs": [
    {
     "data": {
      "text/plain": [
       "3145"
      ]
     },
     "execution_count": 8,
     "metadata": {},
     "output_type": "execute_result"
    }
   ],
   "source": [
    "df3_apo = convert_xpt_to_dataframe('data13-14/APOB_H.XPT')\n",
    "df3_apo = df3_apo[['SEQN', 'LBXAPB']]\n",
    "df3_apo = df3_apo.dropna(subset=['LBXAPB'])  # apo-b levels, in mg/dL\n",
    "len(df3_apo)"
   ]
  },
  {
   "cell_type": "markdown",
   "metadata": {},
   "source": [
    "### Blood pressure"
   ]
  },
  {
   "cell_type": "code",
   "execution_count": 17,
   "metadata": {},
   "outputs": [
    {
     "data": {
      "text/plain": [
       "6302"
      ]
     },
     "execution_count": 17,
     "metadata": {},
     "output_type": "execute_result"
    }
   ],
   "source": [
    "df_bp = convert_xpt_to_dataframe('data17-18/BPX_J.XPT')\n",
    "df_bp = df_bp[['SEQN', 'BPXSY1', 'BPXDI1']] # systolic and diastolic blood pressure (mmHg)\n",
    "df_bp = df_bp.dropna(subset=['BPXSY1', 'BPXDI1'])\n",
    "len(df_bp)"
   ]
  },
  {
   "cell_type": "code",
   "execution_count": 18,
   "metadata": {},
   "outputs": [
    {
     "data": {
      "text/plain": [
       "7145"
      ]
     },
     "execution_count": 18,
     "metadata": {},
     "output_type": "execute_result"
    }
   ],
   "source": [
    "df2_bp = convert_xpt_to_dataframe('data15-16/BPX_I.XPT')\n",
    "df2_bp = df2_bp[['SEQN', 'BPXSY1', 'BPXDI1']] # systolic and diastolic blood pressure (mmHg)\n",
    "df2_bp = df2_bp.dropna(subset=['BPXSY1', 'BPXDI1'])\n",
    "len(df2_bp)"
   ]
  },
  {
   "cell_type": "code",
   "execution_count": 19,
   "metadata": {},
   "outputs": [
    {
     "data": {
      "text/plain": [
       "7172"
      ]
     },
     "execution_count": 19,
     "metadata": {},
     "output_type": "execute_result"
    }
   ],
   "source": [
    "df3_bp = convert_xpt_to_dataframe('data13-14/BPX_H.XPT')\n",
    "df3_bp = df3_bp[['SEQN', 'BPXSY1', 'BPXDI1']] # systolic and diastolic blood pressure (mmHg)\n",
    "df3_bp = df3_bp.dropna(subset=['BPXSY1', 'BPXDI1'])\n",
    "len(df3_bp)"
   ]
  },
  {
   "cell_type": "markdown",
   "metadata": {},
   "source": [
    "### Body Measures"
   ]
  },
  {
   "cell_type": "code",
   "execution_count": 20,
   "metadata": {},
   "outputs": [
    {
     "data": {
      "text/plain": [
       "6003"
      ]
     },
     "execution_count": 20,
     "metadata": {},
     "output_type": "execute_result"
    }
   ],
   "source": [
    "df_bm = convert_xpt_to_dataframe('data17-18/BMX_J.XPT')\n",
    "# weight (kg) , height (cm), bmi (kg/m^2), waist and hip circumference (cm)\n",
    "df_bm = df_bm[['SEQN', 'BMXWT', 'BMXHT', 'BMXBMI', 'BMXWAIST', 'BMXHIP']]\n",
    "df_bm = df_bm.dropna(subset=['BMXWT', 'BMXHT', 'BMXBMI', 'BMXWAIST', 'BMXHIP'])\n",
    "len(df_bm)"
   ]
  },
  {
   "cell_type": "code",
   "execution_count": 21,
   "metadata": {},
   "outputs": [
    {
     "data": {
      "text/plain": [
       "6970"
      ]
     },
     "execution_count": 21,
     "metadata": {},
     "output_type": "execute_result"
    }
   ],
   "source": [
    "df2_bm = convert_xpt_to_dataframe('data15-16/BMX_I.XPT')\n",
    "# weight (kg) , height (cm), bmi (kg/m^2), waist and hip circumference (cm)\n",
    "df2_bm = df2_bm[['SEQN', 'BMXWT', 'BMXHT', 'BMXBMI', 'BMXWAIST', 'BMDAVSAD']]\n",
    "df2_bm = df2_bm.dropna(subset=['BMXWT', 'BMXHT', 'BMXBMI', 'BMXWAIST', 'BMDAVSAD'])\n",
    "len(df2_bm)"
   ]
  },
  {
   "cell_type": "code",
   "execution_count": 22,
   "metadata": {},
   "outputs": [
    {
     "data": {
      "text/plain": [
       "7200"
      ]
     },
     "execution_count": 22,
     "metadata": {},
     "output_type": "execute_result"
    }
   ],
   "source": [
    "df3_bm = convert_xpt_to_dataframe('data13-14/BMX_H.XPT')\n",
    "# weight (kg) , height (cm), bmi (kg/m^2), waist and hip circumference (cm)\n",
    "df3_bm = df3_bm[['SEQN', 'BMXWT', 'BMXHT', 'BMXBMI', 'BMXWAIST', 'BMDAVSAD']]\n",
    "df3_bm = df3_bm.dropna(subset=['BMXWT', 'BMXHT', 'BMXBMI', 'BMXWAIST', 'BMDAVSAD'])\n",
    "len(df3_bm)"
   ]
  },
  {
   "cell_type": "markdown",
   "metadata": {},
   "source": [
    "### Demographic data"
   ]
  },
  {
   "cell_type": "code",
   "execution_count": 23,
   "metadata": {},
   "outputs": [
    {
     "data": {
      "text/plain": [
       "9254"
      ]
     },
     "execution_count": 23,
     "metadata": {},
     "output_type": "execute_result"
    }
   ],
   "source": [
    "df_demo = convert_xpt_to_dataframe('data17-18/DEMO_J.XPT')\n",
    "df_demo = df_demo[['SEQN', 'RIAGENDR', 'RIDAGEYR', 'RIDRETH1']] # gender, age in years, race/hispanic origin\n",
    "df_demo = df_demo.dropna(subset=['RIAGENDR', 'RIDAGEYR', 'RIDRETH1'])\n",
    "len(df_demo)"
   ]
  },
  {
   "cell_type": "code",
   "execution_count": 24,
   "metadata": {},
   "outputs": [
    {
     "data": {
      "text/plain": [
       "9971"
      ]
     },
     "execution_count": 24,
     "metadata": {},
     "output_type": "execute_result"
    }
   ],
   "source": [
    "df2_demo = convert_xpt_to_dataframe('data15-16/DEMO_I.XPT')\n",
    "df2_demo = df2_demo[['SEQN', 'RIAGENDR', 'RIDAGEYR', 'RIDRETH1']] # gender, age in years, race/hispanic origin\n",
    "df2_demo = df2_demo.dropna(subset=['RIAGENDR', 'RIDAGEYR', 'RIDRETH1'])\n",
    "len(df2_demo)"
   ]
  },
  {
   "cell_type": "code",
   "execution_count": 25,
   "metadata": {},
   "outputs": [
    {
     "data": {
      "text/plain": [
       "10175"
      ]
     },
     "execution_count": 25,
     "metadata": {},
     "output_type": "execute_result"
    }
   ],
   "source": [
    "df3_demo = convert_xpt_to_dataframe('data13-14/DEMO_H.XPT')\n",
    "df3_demo = df3_demo[['SEQN', 'RIAGENDR', 'RIDAGEYR', 'RIDRETH1']] # gender, age in years, race/hispanic origin\n",
    "df3_demo = df3_demo.dropna(subset=['RIAGENDR', 'RIDAGEYR', 'RIDRETH1'])\n",
    "len(df3_demo)"
   ]
  },
  {
   "cell_type": "markdown",
   "metadata": {},
   "source": [
    "### General Health Status"
   ]
  },
  {
   "cell_type": "code",
   "execution_count": 26,
   "metadata": {},
   "outputs": [
    {
     "data": {
      "text/plain": [
       "5968"
      ]
     },
     "execution_count": 26,
     "metadata": {},
     "output_type": "execute_result"
    }
   ],
   "source": [
    "df_general = convert_xpt_to_dataframe('data17-18/HSQ_J.XPT')\n",
    "df_general = df_general[['SEQN', 'HSD010']] # general health condition (1 = excellent, 5 = poor)\n",
    "df_general = df_general.dropna(subset=['HSD010'])\n",
    "len(df_general)"
   ]
  },
  {
   "cell_type": "code",
   "execution_count": 27,
   "metadata": {},
   "outputs": [
    {
     "data": {
      "text/plain": [
       "6166"
      ]
     },
     "execution_count": 27,
     "metadata": {},
     "output_type": "execute_result"
    }
   ],
   "source": [
    "df2_general = convert_xpt_to_dataframe('data15-16/HSQ_I.XPT')\n",
    "df2_general = df2_general[['SEQN', 'HSD010']] # general health condition (1 = excellent, 5 = poor)\n",
    "df2_general = df2_general.dropna(subset=['HSD010'])\n",
    "len(df2_general)"
   ]
  },
  {
   "cell_type": "code",
   "execution_count": 28,
   "metadata": {},
   "outputs": [
    {
     "data": {
      "text/plain": [
       "5968"
      ]
     },
     "execution_count": 28,
     "metadata": {},
     "output_type": "execute_result"
    }
   ],
   "source": [
    "df3_general = convert_xpt_to_dataframe('data13-14/HSQ_H.XPT')\n",
    "df3_general = df3_general[['SEQN', 'HSD010']] # general health condition (1 = excellent, 5 = poor)\n",
    "df3_general = df3_general.dropna(subset=['HSD010'])\n",
    "len(df_general)"
   ]
  },
  {
   "cell_type": "markdown",
   "metadata": {},
   "source": [
    "### Disability"
   ]
  },
  {
   "cell_type": "code",
   "execution_count": 32,
   "metadata": {},
   "outputs": [
    {
     "data": {
      "text/plain": [
       "8056"
      ]
     },
     "execution_count": 32,
     "metadata": {},
     "output_type": "execute_result"
    }
   ],
   "source": [
    "df_disability = convert_xpt_to_dataframe('data17-18/DLQ_J.XPT')\n",
    "df_disability = df_disability[['SEQN', 'DLQ010', 'DLQ020', 'DLQ050']] # difficulty hearing, difficulty seeing, difficulty walking\n",
    "df_disability = df_disability.dropna(subset=['DLQ020', 'DLQ050'])\n",
    "len(df_disability)"
   ]
  },
  {
   "cell_type": "code",
   "execution_count": 33,
   "metadata": {},
   "outputs": [
    {
     "data": {
      "text/plain": [
       "8572"
      ]
     },
     "execution_count": 33,
     "metadata": {},
     "output_type": "execute_result"
    }
   ],
   "source": [
    "df2_disability = convert_xpt_to_dataframe('data15-16/DLQ_I.XPT')\n",
    "df2_disability = df2_disability[['SEQN', 'DLQ020', 'DLQ050']] #difficulty seeing, difficulty walking\n",
    "df2_disability = df2_disability.dropna(subset=['DLQ020', 'DLQ050'])\n",
    "len(df2_disability)"
   ]
  },
  {
   "cell_type": "code",
   "execution_count": 34,
   "metadata": {},
   "outputs": [
    {
     "data": {
      "text/plain": [
       "8780"
      ]
     },
     "execution_count": 34,
     "metadata": {},
     "output_type": "execute_result"
    }
   ],
   "source": [
    "df3_disability = convert_xpt_to_dataframe('data13-14/DLQ_H.XPT')\n",
    "df3_disability = df3_disability[['SEQN', 'DLQ020', 'DLQ050']] #difficulty seeing, difficulty walking\n",
    "df3_disability = df3_disability.dropna(subset=['DLQ020', 'DLQ050'])\n",
    "len(df3_disability)"
   ]
  },
  {
   "cell_type": "markdown",
   "metadata": {},
   "source": [
    "### Physical Activity"
   ]
  },
  {
   "cell_type": "code",
   "execution_count": 35,
   "metadata": {},
   "outputs": [
    {
     "data": {
      "text/plain": [
       "5856"
      ]
     },
     "execution_count": 35,
     "metadata": {},
     "output_type": "execute_result"
    }
   ],
   "source": [
    "df_pa = convert_xpt_to_dataframe('data17-18/PAQ_J.XPT')\n",
    "df_pa = df_pa[['SEQN', 'PAQ665']] #moderate recreational activities\n",
    "df_pa = df_pa.dropna(subset=['PAQ665'])\n",
    "len(df_pa)"
   ]
  },
  {
   "cell_type": "code",
   "execution_count": 36,
   "metadata": {},
   "outputs": [
    {
     "data": {
      "text/plain": [
       "6963"
      ]
     },
     "execution_count": 36,
     "metadata": {},
     "output_type": "execute_result"
    }
   ],
   "source": [
    "df2_pa = convert_xpt_to_dataframe('data15-16/PAQ_I.XPT')\n",
    "df2_pa = df2_pa[['SEQN', 'PAQ665']]  #moderate recreational activities\n",
    "df2_pa = df2_pa.dropna(subset=['PAQ665'])\n",
    "len(df2_pa)"
   ]
  },
  {
   "cell_type": "code",
   "execution_count": 37,
   "metadata": {},
   "outputs": [
    {
     "data": {
      "text/plain": [
       "7145"
      ]
     },
     "execution_count": 37,
     "metadata": {},
     "output_type": "execute_result"
    }
   ],
   "source": [
    "df3_pa = convert_xpt_to_dataframe('data13-14/PAQ_H.XPT')\n",
    "df3_pa = df3_pa[['SEQN', 'PAQ665']]  #moderate recreational activities\n",
    "df3_pa = df3_pa.dropna(subset=['PAQ665'])\n",
    "len(df3_pa)"
   ]
  },
  {
   "cell_type": "markdown",
   "metadata": {},
   "source": [
    "### Difficulties"
   ]
  },
  {
   "cell_type": "code",
   "execution_count": 206,
   "metadata": {},
   "outputs": [
    {
     "data": {
      "text/plain": [
       "2927"
      ]
     },
     "execution_count": 206,
     "metadata": {},
     "output_type": "execute_result"
    }
   ],
   "source": [
    "df_difficulty = convert_xpt_to_dataframe('data17-18/PFQ_J.XPT')\n",
    "df_difficulty = df_difficulty[['SEQN', 'PFQ061E']] # Difficulty lifting or carrying \n",
    "df_difficulty = df_difficulty.dropna(subset=['PFQ061E'])\n",
    "len(df_difficulty)"
   ]
  },
  {
   "cell_type": "code",
   "execution_count": 207,
   "metadata": {},
   "outputs": [
    {
     "data": {
      "text/plain": [
       "2651"
      ]
     },
     "execution_count": 207,
     "metadata": {},
     "output_type": "execute_result"
    }
   ],
   "source": [
    "df2_difficulty = convert_xpt_to_dataframe('data15-16/PFQ_I.XPT')\n",
    "df2_difficulty = df2_difficulty[['SEQN', 'PFQ061E']] # Difficulty lifting or carrying\n",
    "df2_difficulty = df2_difficulty.dropna(subset=['PFQ061E'])\n",
    "len(df2_difficulty)"
   ]
  },
  {
   "cell_type": "code",
   "execution_count": 208,
   "metadata": {},
   "outputs": [
    {
     "data": {
      "text/plain": [
       "2595"
      ]
     },
     "execution_count": 208,
     "metadata": {},
     "output_type": "execute_result"
    }
   ],
   "source": [
    "df3_difficulty = convert_xpt_to_dataframe('data13-14/PFQ_H.XPT')\n",
    "df3_difficulty = df3_difficulty[['SEQN', 'PFQ061E']] # Difficulty lifting or carrying\n",
    "df3_difficulty = df3_difficulty.dropna(subset=['PFQ061E'])\n",
    "len(df3_difficulty)"
   ]
  },
  {
   "cell_type": "markdown",
   "metadata": {},
   "source": [
    "### Medical Conditions"
   ]
  },
  {
   "cell_type": "code",
   "execution_count": 72,
   "metadata": {},
   "outputs": [
    {
     "data": {
      "text/plain": [
       "5569"
      ]
     },
     "execution_count": 72,
     "metadata": {},
     "output_type": "execute_result"
    }
   ],
   "source": [
    "# told doctor had trouble sleeping, How often feel overly sleepy during day?\n",
    "df_med = convert_xpt_to_dataframe('data17-18/MCQ_J.XPT')\n",
    "df_med = df_med[['SEQN', 'MCQ053', 'MCQ203', 'MCQ160L', 'MCQ160C']] # taking anemia medicine, jaundice, liver condition, coronary heart disease\n",
    "df_med = df_med.dropna(subset=['MCQ053', 'MCQ203', 'MCQ160L', 'MCQ160C'])\n",
    "len(df_med)"
   ]
  },
  {
   "cell_type": "code",
   "execution_count": 73,
   "metadata": {},
   "outputs": [
    {
     "data": {
      "text/plain": [
       "5719"
      ]
     },
     "execution_count": 73,
     "metadata": {},
     "output_type": "execute_result"
    }
   ],
   "source": [
    "df2_med = convert_xpt_to_dataframe('data15-16/MCQ_I.XPT')\n",
    "df2_med = df2_med[['SEQN', 'MCQ053', 'MCQ203', 'MCQ160L', 'MCQ160C']]\n",
    "df2_med = df2_med.dropna(subset=['MCQ053', 'MCQ203', 'MCQ160L', 'MCQ160C'])\n",
    "len(df2_med)"
   ]
  },
  {
   "cell_type": "code",
   "execution_count": 74,
   "metadata": {},
   "outputs": [
    {
     "data": {
      "text/plain": [
       "5745"
      ]
     },
     "execution_count": 74,
     "metadata": {},
     "output_type": "execute_result"
    }
   ],
   "source": [
    "df3_med = convert_xpt_to_dataframe('data13-14/MCQ_H.XPT')\n",
    "df3_med = df3_med[['SEQN', 'MCQ053', 'MCQ203', 'MCQ160L', 'MCQ160C']] \n",
    "df3_med = df3_med.dropna(subset=['MCQ053', 'MCQ203', 'MCQ160L', 'MCQ160C'])\n",
    "len(df3_med)"
   ]
  },
  {
   "cell_type": "markdown",
   "metadata": {},
   "source": [
    "### Concatenation of dataframe"
   ]
  },
  {
   "cell_type": "code",
   "execution_count": 214,
   "metadata": {},
   "outputs": [
    {
     "data": {
      "text/plain": [
       "1921"
      ]
     },
     "execution_count": 214,
     "metadata": {},
     "output_type": "execute_result"
    }
   ],
   "source": [
    "df_merged = df_ldlc.merge(df_bm, on='SEQN').merge(df_bp, on='SEQN').merge(df_demo, on='SEQN').merge(df_general, on='SEQN').merge(df_disability, on = 'SEQN').merge(df_pa, on = 'SEQN').merge(df_med, on = 'SEQN')\n",
    "len(df_merged)"
   ]
  },
  {
   "cell_type": "code",
   "execution_count": 576,
   "metadata": {},
   "outputs": [
    {
     "data": {
      "text/plain": [
       "1884"
      ]
     },
     "execution_count": 576,
     "metadata": {},
     "output_type": "execute_result"
    }
   ],
   "source": [
    "df2_merged = df2_apo.merge(df2_bm, on='SEQN').merge(df2_bp, on='SEQN').merge(df2_demo, on='SEQN').merge(df2_general, on='SEQN').merge(df2_disability, on = 'SEQN').merge(df2_pa, on = 'SEQN').merge(df2_med, on = 'SEQN')\n",
    "len(df2_merged)"
   ]
  },
  {
   "cell_type": "code",
   "execution_count": 577,
   "metadata": {},
   "outputs": [
    {
     "data": {
      "text/plain": [
       "2061"
      ]
     },
     "execution_count": 577,
     "metadata": {},
     "output_type": "execute_result"
    }
   ],
   "source": [
    "df3_merged = df3_apo.merge(df3_bm, on='SEQN').merge(df3_bp, on='SEQN').merge(df3_demo, on='SEQN').merge(df3_general, on='SEQN').merge(df3_disability, on = 'SEQN').merge(df3_pa, on = 'SEQN').merge(df3_med, on = 'SEQN')\n",
    "len(df3_merged)"
   ]
  },
  {
   "cell_type": "code",
   "execution_count": 578,
   "metadata": {},
   "outputs": [
    {
     "data": {
      "text/html": [
       "<div>\n",
       "<style scoped>\n",
       "    .dataframe tbody tr th:only-of-type {\n",
       "        vertical-align: middle;\n",
       "    }\n",
       "\n",
       "    .dataframe tbody tr th {\n",
       "        vertical-align: top;\n",
       "    }\n",
       "\n",
       "    .dataframe thead th {\n",
       "        text-align: right;\n",
       "    }\n",
       "</style>\n",
       "<table border=\"1\" class=\"dataframe\">\n",
       "  <thead>\n",
       "    <tr style=\"text-align: right;\">\n",
       "      <th></th>\n",
       "      <th>SEQN</th>\n",
       "      <th>LBXAPB</th>\n",
       "      <th>BMXWT</th>\n",
       "      <th>BMXHT</th>\n",
       "      <th>BMXBMI</th>\n",
       "      <th>BMXWAIST</th>\n",
       "      <th>BMDAVSAD</th>\n",
       "      <th>BPXSY1</th>\n",
       "      <th>BPXDI1</th>\n",
       "      <th>RIAGENDR</th>\n",
       "      <th>RIDAGEYR</th>\n",
       "      <th>RIDRETH1</th>\n",
       "      <th>HSD010</th>\n",
       "      <th>DLQ020</th>\n",
       "      <th>DLQ050</th>\n",
       "      <th>PAQ665</th>\n",
       "      <th>MCQ053</th>\n",
       "      <th>MCQ203</th>\n",
       "      <th>MCQ160L</th>\n",
       "      <th>MCQ160C</th>\n",
       "    </tr>\n",
       "  </thead>\n",
       "  <tbody>\n",
       "    <tr>\n",
       "      <th>0</th>\n",
       "      <td>83733.0</td>\n",
       "      <td>129.0</td>\n",
       "      <td>90.4</td>\n",
       "      <td>171.4</td>\n",
       "      <td>30.8</td>\n",
       "      <td>107.9</td>\n",
       "      <td>27.3</td>\n",
       "      <td>146.0</td>\n",
       "      <td>88.0</td>\n",
       "      <td>1.0</td>\n",
       "      <td>53.0</td>\n",
       "      <td>3.0</td>\n",
       "      <td>2.0</td>\n",
       "      <td>2.0</td>\n",
       "      <td>2.0</td>\n",
       "      <td>2.0</td>\n",
       "      <td>2.0</td>\n",
       "      <td>2.0</td>\n",
       "      <td>2.0</td>\n",
       "      <td>2.0</td>\n",
       "    </tr>\n",
       "    <tr>\n",
       "      <th>1</th>\n",
       "      <td>83734.0</td>\n",
       "      <td>129.0</td>\n",
       "      <td>83.4</td>\n",
       "      <td>170.1</td>\n",
       "      <td>28.8</td>\n",
       "      <td>116.5</td>\n",
       "      <td>26.6</td>\n",
       "      <td>138.0</td>\n",
       "      <td>46.0</td>\n",
       "      <td>1.0</td>\n",
       "      <td>78.0</td>\n",
       "      <td>3.0</td>\n",
       "      <td>4.0</td>\n",
       "      <td>2.0</td>\n",
       "      <td>2.0</td>\n",
       "      <td>2.0</td>\n",
       "      <td>2.0</td>\n",
       "      <td>1.0</td>\n",
       "      <td>1.0</td>\n",
       "      <td>2.0</td>\n",
       "    </tr>\n",
       "    <tr>\n",
       "      <th>2</th>\n",
       "      <td>83737.0</td>\n",
       "      <td>81.0</td>\n",
       "      <td>64.4</td>\n",
       "      <td>150.0</td>\n",
       "      <td>28.6</td>\n",
       "      <td>92.9</td>\n",
       "      <td>23.1</td>\n",
       "      <td>116.0</td>\n",
       "      <td>58.0</td>\n",
       "      <td>2.0</td>\n",
       "      <td>72.0</td>\n",
       "      <td>1.0</td>\n",
       "      <td>3.0</td>\n",
       "      <td>2.0</td>\n",
       "      <td>2.0</td>\n",
       "      <td>2.0</td>\n",
       "      <td>2.0</td>\n",
       "      <td>2.0</td>\n",
       "      <td>2.0</td>\n",
       "      <td>2.0</td>\n",
       "    </tr>\n",
       "    <tr>\n",
       "      <th>3</th>\n",
       "      <td>83741.0</td>\n",
       "      <td>72.0</td>\n",
       "      <td>76.6</td>\n",
       "      <td>165.4</td>\n",
       "      <td>28.0</td>\n",
       "      <td>86.6</td>\n",
       "      <td>19.2</td>\n",
       "      <td>110.0</td>\n",
       "      <td>70.0</td>\n",
       "      <td>1.0</td>\n",
       "      <td>22.0</td>\n",
       "      <td>4.0</td>\n",
       "      <td>3.0</td>\n",
       "      <td>2.0</td>\n",
       "      <td>2.0</td>\n",
       "      <td>2.0</td>\n",
       "      <td>2.0</td>\n",
       "      <td>2.0</td>\n",
       "      <td>2.0</td>\n",
       "      <td>2.0</td>\n",
       "    </tr>\n",
       "    <tr>\n",
       "      <th>4</th>\n",
       "      <td>83750.0</td>\n",
       "      <td>92.0</td>\n",
       "      <td>76.2</td>\n",
       "      <td>177.8</td>\n",
       "      <td>24.1</td>\n",
       "      <td>90.1</td>\n",
       "      <td>20.2</td>\n",
       "      <td>116.0</td>\n",
       "      <td>70.0</td>\n",
       "      <td>1.0</td>\n",
       "      <td>45.0</td>\n",
       "      <td>5.0</td>\n",
       "      <td>3.0</td>\n",
       "      <td>2.0</td>\n",
       "      <td>2.0</td>\n",
       "      <td>1.0</td>\n",
       "      <td>2.0</td>\n",
       "      <td>2.0</td>\n",
       "      <td>2.0</td>\n",
       "      <td>2.0</td>\n",
       "    </tr>\n",
       "    <tr>\n",
       "      <th>...</th>\n",
       "      <td>...</td>\n",
       "      <td>...</td>\n",
       "      <td>...</td>\n",
       "      <td>...</td>\n",
       "      <td>...</td>\n",
       "      <td>...</td>\n",
       "      <td>...</td>\n",
       "      <td>...</td>\n",
       "      <td>...</td>\n",
       "      <td>...</td>\n",
       "      <td>...</td>\n",
       "      <td>...</td>\n",
       "      <td>...</td>\n",
       "      <td>...</td>\n",
       "      <td>...</td>\n",
       "      <td>...</td>\n",
       "      <td>...</td>\n",
       "      <td>...</td>\n",
       "      <td>...</td>\n",
       "      <td>...</td>\n",
       "    </tr>\n",
       "    <tr>\n",
       "      <th>2056</th>\n",
       "      <td>83708.0</td>\n",
       "      <td>90.0</td>\n",
       "      <td>175.2</td>\n",
       "      <td>188.3</td>\n",
       "      <td>49.4</td>\n",
       "      <td>157.6</td>\n",
       "      <td>36.5</td>\n",
       "      <td>94.0</td>\n",
       "      <td>74.0</td>\n",
       "      <td>1.0</td>\n",
       "      <td>64.0</td>\n",
       "      <td>3.0</td>\n",
       "      <td>4.0</td>\n",
       "      <td>2.0</td>\n",
       "      <td>2.0</td>\n",
       "      <td>2.0</td>\n",
       "      <td>2.0</td>\n",
       "      <td>2.0</td>\n",
       "      <td>2.0</td>\n",
       "      <td>2.0</td>\n",
       "    </tr>\n",
       "    <tr>\n",
       "      <th>2057</th>\n",
       "      <td>83711.0</td>\n",
       "      <td>105.0</td>\n",
       "      <td>81.9</td>\n",
       "      <td>156.3</td>\n",
       "      <td>33.5</td>\n",
       "      <td>112.0</td>\n",
       "      <td>26.2</td>\n",
       "      <td>110.0</td>\n",
       "      <td>76.0</td>\n",
       "      <td>2.0</td>\n",
       "      <td>38.0</td>\n",
       "      <td>3.0</td>\n",
       "      <td>3.0</td>\n",
       "      <td>2.0</td>\n",
       "      <td>2.0</td>\n",
       "      <td>2.0</td>\n",
       "      <td>2.0</td>\n",
       "      <td>2.0</td>\n",
       "      <td>2.0</td>\n",
       "      <td>2.0</td>\n",
       "    </tr>\n",
       "    <tr>\n",
       "      <th>2058</th>\n",
       "      <td>83712.0</td>\n",
       "      <td>91.0</td>\n",
       "      <td>90.8</td>\n",
       "      <td>174.1</td>\n",
       "      <td>30.0</td>\n",
       "      <td>107.3</td>\n",
       "      <td>26.8</td>\n",
       "      <td>124.0</td>\n",
       "      <td>70.0</td>\n",
       "      <td>1.0</td>\n",
       "      <td>61.0</td>\n",
       "      <td>3.0</td>\n",
       "      <td>3.0</td>\n",
       "      <td>2.0</td>\n",
       "      <td>2.0</td>\n",
       "      <td>2.0</td>\n",
       "      <td>2.0</td>\n",
       "      <td>2.0</td>\n",
       "      <td>2.0</td>\n",
       "      <td>2.0</td>\n",
       "    </tr>\n",
       "    <tr>\n",
       "      <th>2059</th>\n",
       "      <td>83718.0</td>\n",
       "      <td>92.0</td>\n",
       "      <td>74.7</td>\n",
       "      <td>165.1</td>\n",
       "      <td>27.4</td>\n",
       "      <td>100.4</td>\n",
       "      <td>23.1</td>\n",
       "      <td>114.0</td>\n",
       "      <td>72.0</td>\n",
       "      <td>2.0</td>\n",
       "      <td>60.0</td>\n",
       "      <td>4.0</td>\n",
       "      <td>4.0</td>\n",
       "      <td>2.0</td>\n",
       "      <td>1.0</td>\n",
       "      <td>1.0</td>\n",
       "      <td>2.0</td>\n",
       "      <td>2.0</td>\n",
       "      <td>2.0</td>\n",
       "      <td>2.0</td>\n",
       "    </tr>\n",
       "    <tr>\n",
       "      <th>2060</th>\n",
       "      <td>83727.0</td>\n",
       "      <td>88.0</td>\n",
       "      <td>71.8</td>\n",
       "      <td>171.3</td>\n",
       "      <td>24.5</td>\n",
       "      <td>87.1</td>\n",
       "      <td>19.1</td>\n",
       "      <td>110.0</td>\n",
       "      <td>68.0</td>\n",
       "      <td>1.0</td>\n",
       "      <td>26.0</td>\n",
       "      <td>2.0</td>\n",
       "      <td>3.0</td>\n",
       "      <td>2.0</td>\n",
       "      <td>2.0</td>\n",
       "      <td>2.0</td>\n",
       "      <td>2.0</td>\n",
       "      <td>2.0</td>\n",
       "      <td>2.0</td>\n",
       "      <td>2.0</td>\n",
       "    </tr>\n",
       "  </tbody>\n",
       "</table>\n",
       "<p>3945 rows × 20 columns</p>\n",
       "</div>"
      ],
      "text/plain": [
       "         SEQN  LBXAPB  BMXWT  BMXHT  BMXBMI  BMXWAIST  BMDAVSAD  BPXSY1  \\\n",
       "0     83733.0   129.0   90.4  171.4    30.8     107.9      27.3   146.0   \n",
       "1     83734.0   129.0   83.4  170.1    28.8     116.5      26.6   138.0   \n",
       "2     83737.0    81.0   64.4  150.0    28.6      92.9      23.1   116.0   \n",
       "3     83741.0    72.0   76.6  165.4    28.0      86.6      19.2   110.0   \n",
       "4     83750.0    92.0   76.2  177.8    24.1      90.1      20.2   116.0   \n",
       "...       ...     ...    ...    ...     ...       ...       ...     ...   \n",
       "2056  83708.0    90.0  175.2  188.3    49.4     157.6      36.5    94.0   \n",
       "2057  83711.0   105.0   81.9  156.3    33.5     112.0      26.2   110.0   \n",
       "2058  83712.0    91.0   90.8  174.1    30.0     107.3      26.8   124.0   \n",
       "2059  83718.0    92.0   74.7  165.1    27.4     100.4      23.1   114.0   \n",
       "2060  83727.0    88.0   71.8  171.3    24.5      87.1      19.1   110.0   \n",
       "\n",
       "      BPXDI1  RIAGENDR  RIDAGEYR  RIDRETH1  HSD010  DLQ020  DLQ050  PAQ665  \\\n",
       "0       88.0       1.0      53.0       3.0     2.0     2.0     2.0     2.0   \n",
       "1       46.0       1.0      78.0       3.0     4.0     2.0     2.0     2.0   \n",
       "2       58.0       2.0      72.0       1.0     3.0     2.0     2.0     2.0   \n",
       "3       70.0       1.0      22.0       4.0     3.0     2.0     2.0     2.0   \n",
       "4       70.0       1.0      45.0       5.0     3.0     2.0     2.0     1.0   \n",
       "...      ...       ...       ...       ...     ...     ...     ...     ...   \n",
       "2056    74.0       1.0      64.0       3.0     4.0     2.0     2.0     2.0   \n",
       "2057    76.0       2.0      38.0       3.0     3.0     2.0     2.0     2.0   \n",
       "2058    70.0       1.0      61.0       3.0     3.0     2.0     2.0     2.0   \n",
       "2059    72.0       2.0      60.0       4.0     4.0     2.0     1.0     1.0   \n",
       "2060    68.0       1.0      26.0       2.0     3.0     2.0     2.0     2.0   \n",
       "\n",
       "      MCQ053  MCQ203  MCQ160L  MCQ160C  \n",
       "0        2.0     2.0      2.0      2.0  \n",
       "1        2.0     1.0      1.0      2.0  \n",
       "2        2.0     2.0      2.0      2.0  \n",
       "3        2.0     2.0      2.0      2.0  \n",
       "4        2.0     2.0      2.0      2.0  \n",
       "...      ...     ...      ...      ...  \n",
       "2056     2.0     2.0      2.0      2.0  \n",
       "2057     2.0     2.0      2.0      2.0  \n",
       "2058     2.0     2.0      2.0      2.0  \n",
       "2059     2.0     2.0      2.0      2.0  \n",
       "2060     2.0     2.0      2.0      2.0  \n",
       "\n",
       "[3945 rows x 20 columns]"
      ]
     },
     "execution_count": 578,
     "metadata": {},
     "output_type": "execute_result"
    }
   ],
   "source": [
    "df_all = pd.concat([df2_merged, df3_merged])\n",
    "df_all"
   ]
  },
  {
   "cell_type": "markdown",
   "metadata": {},
   "source": [
    "### Feature Engineering"
   ]
  },
  {
   "cell_type": "code",
   "execution_count": 579,
   "metadata": {},
   "outputs": [],
   "source": [
    "# Create new columns with ratio of waist to hip, and ratio of waist to height\n",
    "# df_merged['waist_to_hip'] = df_merged['BMXWAIST'] / df_merged['BMXHIP']\n",
    "# df_merged['waist_to_height'] = df_merged['BMXWAIST'] / df_merged['BMXHT']\n",
    "df_all['waist_to_height'] = df_all['BMXWAIST'] / df_all['BMXHT']\n",
    "df_all['sag_to_height'] = df_all['BMDAVSAD'] / df_all['BMXHT']"
   ]
  },
  {
   "cell_type": "code",
   "execution_count": 294,
   "metadata": {},
   "outputs": [
    {
     "data": {
      "text/plain": [
       "81"
      ]
     },
     "execution_count": 294,
     "metadata": {},
     "output_type": "execute_result"
    }
   ],
   "source": [
    "df_all = df_all[(df_all['BPXDI1'] < 200) & (df_all['BPXDI1'] > 60)]\n",
    "df_all = df_all[(df_all['BPXSY1'] < 200) & (df_all['BPXSY1'] > 100)]\n",
    "# df_all = df_all[(df_all['RIDAGEYR'] < 70) & (df_all['RIDAGEYR'] > 18)]\n",
    "# df_all = df_all[(df_all['BMXBMI'] < 65) & (df_all['BMXBMI'] > 15)]"
   ]
  },
  {
   "cell_type": "code",
   "execution_count": 278,
   "metadata": {},
   "outputs": [
    {
     "data": {
      "text/html": [
       "<div>\n",
       "<style scoped>\n",
       "    .dataframe tbody tr th:only-of-type {\n",
       "        vertical-align: middle;\n",
       "    }\n",
       "\n",
       "    .dataframe tbody tr th {\n",
       "        vertical-align: top;\n",
       "    }\n",
       "\n",
       "    .dataframe thead th {\n",
       "        text-align: right;\n",
       "    }\n",
       "</style>\n",
       "<table border=\"1\" class=\"dataframe\">\n",
       "  <thead>\n",
       "    <tr style=\"text-align: right;\">\n",
       "      <th></th>\n",
       "      <th>SEQN</th>\n",
       "      <th>LBXAPB</th>\n",
       "      <th>BMXWT</th>\n",
       "      <th>BMXHT</th>\n",
       "      <th>BMXBMI</th>\n",
       "      <th>BMXWAIST</th>\n",
       "      <th>BMDAVSAD</th>\n",
       "      <th>BPXSY1</th>\n",
       "      <th>BPXDI1</th>\n",
       "      <th>RIAGENDR</th>\n",
       "      <th>RIDAGEYR</th>\n",
       "      <th>RIDRETH1</th>\n",
       "      <th>HSD010</th>\n",
       "      <th>DBQ700</th>\n",
       "      <th>DLQ020</th>\n",
       "      <th>DLQ050</th>\n",
       "      <th>PAQ665</th>\n",
       "      <th>WHQ030</th>\n",
       "      <th>waist_to_height</th>\n",
       "      <th>sag_to_height</th>\n",
       "    </tr>\n",
       "  </thead>\n",
       "  <tbody>\n",
       "    <tr>\n",
       "      <th>0</th>\n",
       "      <td>83733.0</td>\n",
       "      <td>129.0</td>\n",
       "      <td>0.348739</td>\n",
       "      <td>0.533123</td>\n",
       "      <td>0.295585</td>\n",
       "      <td>0.421665</td>\n",
       "      <td>0.541818</td>\n",
       "      <td>0.444444</td>\n",
       "      <td>0.721311</td>\n",
       "      <td>0.0</td>\n",
       "      <td>0.578125</td>\n",
       "      <td>0.50</td>\n",
       "      <td>0.25</td>\n",
       "      <td>0.00</td>\n",
       "      <td>0.125</td>\n",
       "      <td>0.125</td>\n",
       "      <td>0.125</td>\n",
       "      <td>0.00</td>\n",
       "      <td>0.344382</td>\n",
       "      <td>0.495299</td>\n",
       "    </tr>\n",
       "    <tr>\n",
       "      <th>1</th>\n",
       "      <td>83734.0</td>\n",
       "      <td>129.0</td>\n",
       "      <td>0.306723</td>\n",
       "      <td>0.512618</td>\n",
       "      <td>0.257198</td>\n",
       "      <td>0.498657</td>\n",
       "      <td>0.516364</td>\n",
       "      <td>0.395062</td>\n",
       "      <td>0.377049</td>\n",
       "      <td>0.0</td>\n",
       "      <td>0.968750</td>\n",
       "      <td>0.50</td>\n",
       "      <td>0.75</td>\n",
       "      <td>0.75</td>\n",
       "      <td>0.125</td>\n",
       "      <td>0.125</td>\n",
       "      <td>0.125</td>\n",
       "      <td>0.25</td>\n",
       "      <td>0.415899</td>\n",
       "      <td>0.478655</td>\n",
       "    </tr>\n",
       "    <tr>\n",
       "      <th>2</th>\n",
       "      <td>83737.0</td>\n",
       "      <td>81.0</td>\n",
       "      <td>0.192677</td>\n",
       "      <td>0.195584</td>\n",
       "      <td>0.253359</td>\n",
       "      <td>0.287377</td>\n",
       "      <td>0.389091</td>\n",
       "      <td>0.259259</td>\n",
       "      <td>0.475410</td>\n",
       "      <td>1.0</td>\n",
       "      <td>0.875000</td>\n",
       "      <td>0.00</td>\n",
       "      <td>0.50</td>\n",
       "      <td>0.50</td>\n",
       "      <td>0.125</td>\n",
       "      <td>0.125</td>\n",
       "      <td>0.125</td>\n",
       "      <td>0.00</td>\n",
       "      <td>0.331223</td>\n",
       "      <td>0.464994</td>\n",
       "    </tr>\n",
       "    <tr>\n",
       "      <th>3</th>\n",
       "      <td>83741.0</td>\n",
       "      <td>72.0</td>\n",
       "      <td>0.265906</td>\n",
       "      <td>0.438486</td>\n",
       "      <td>0.241843</td>\n",
       "      <td>0.230976</td>\n",
       "      <td>0.247273</td>\n",
       "      <td>0.222222</td>\n",
       "      <td>0.573770</td>\n",
       "      <td>0.0</td>\n",
       "      <td>0.093750</td>\n",
       "      <td>0.75</td>\n",
       "      <td>0.50</td>\n",
       "      <td>0.50</td>\n",
       "      <td>0.125</td>\n",
       "      <td>0.125</td>\n",
       "      <td>0.125</td>\n",
       "      <td>0.25</td>\n",
       "      <td>0.207545</td>\n",
       "      <td>0.247222</td>\n",
       "    </tr>\n",
       "    <tr>\n",
       "      <th>4</th>\n",
       "      <td>83749.0</td>\n",
       "      <td>74.0</td>\n",
       "      <td>0.261705</td>\n",
       "      <td>0.380126</td>\n",
       "      <td>0.261036</td>\n",
       "      <td>0.335721</td>\n",
       "      <td>0.341818</td>\n",
       "      <td>0.259259</td>\n",
       "      <td>0.459016</td>\n",
       "      <td>1.0</td>\n",
       "      <td>0.015625</td>\n",
       "      <td>0.50</td>\n",
       "      <td>0.25</td>\n",
       "      <td>0.75</td>\n",
       "      <td>0.125</td>\n",
       "      <td>0.125</td>\n",
       "      <td>0.125</td>\n",
       "      <td>0.25</td>\n",
       "      <td>0.316476</td>\n",
       "      <td>0.354824</td>\n",
       "    </tr>\n",
       "    <tr>\n",
       "      <th>...</th>\n",
       "      <td>...</td>\n",
       "      <td>...</td>\n",
       "      <td>...</td>\n",
       "      <td>...</td>\n",
       "      <td>...</td>\n",
       "      <td>...</td>\n",
       "      <td>...</td>\n",
       "      <td>...</td>\n",
       "      <td>...</td>\n",
       "      <td>...</td>\n",
       "      <td>...</td>\n",
       "      <td>...</td>\n",
       "      <td>...</td>\n",
       "      <td>...</td>\n",
       "      <td>...</td>\n",
       "      <td>...</td>\n",
       "      <td>...</td>\n",
       "      <td>...</td>\n",
       "      <td>...</td>\n",
       "      <td>...</td>\n",
       "    </tr>\n",
       "    <tr>\n",
       "      <th>2321</th>\n",
       "      <td>83711.0</td>\n",
       "      <td>105.0</td>\n",
       "      <td>0.297719</td>\n",
       "      <td>0.294953</td>\n",
       "      <td>0.347409</td>\n",
       "      <td>0.458371</td>\n",
       "      <td>0.501818</td>\n",
       "      <td>0.222222</td>\n",
       "      <td>0.622951</td>\n",
       "      <td>1.0</td>\n",
       "      <td>0.343750</td>\n",
       "      <td>0.50</td>\n",
       "      <td>0.50</td>\n",
       "      <td>0.50</td>\n",
       "      <td>0.125</td>\n",
       "      <td>0.125</td>\n",
       "      <td>0.125</td>\n",
       "      <td>0.00</td>\n",
       "      <td>0.456817</td>\n",
       "      <td>0.543254</td>\n",
       "    </tr>\n",
       "    <tr>\n",
       "      <th>2322</th>\n",
       "      <td>83712.0</td>\n",
       "      <td>91.0</td>\n",
       "      <td>0.351140</td>\n",
       "      <td>0.575710</td>\n",
       "      <td>0.280230</td>\n",
       "      <td>0.416294</td>\n",
       "      <td>0.523636</td>\n",
       "      <td>0.308642</td>\n",
       "      <td>0.573770</td>\n",
       "      <td>0.0</td>\n",
       "      <td>0.703125</td>\n",
       "      <td>0.50</td>\n",
       "      <td>0.50</td>\n",
       "      <td>0.25</td>\n",
       "      <td>0.125</td>\n",
       "      <td>0.125</td>\n",
       "      <td>0.125</td>\n",
       "      <td>0.00</td>\n",
       "      <td>0.327321</td>\n",
       "      <td>0.464618</td>\n",
       "    </tr>\n",
       "    <tr>\n",
       "      <th>2323</th>\n",
       "      <td>83716.0</td>\n",
       "      <td>49.0</td>\n",
       "      <td>0.276110</td>\n",
       "      <td>0.673502</td>\n",
       "      <td>0.166987</td>\n",
       "      <td>0.198747</td>\n",
       "      <td>0.247273</td>\n",
       "      <td>0.185185</td>\n",
       "      <td>0.491803</td>\n",
       "      <td>0.0</td>\n",
       "      <td>0.015625</td>\n",
       "      <td>0.50</td>\n",
       "      <td>0.00</td>\n",
       "      <td>0.00</td>\n",
       "      <td>0.125</td>\n",
       "      <td>0.125</td>\n",
       "      <td>0.000</td>\n",
       "      <td>0.25</td>\n",
       "      <td>0.125868</td>\n",
       "      <td>0.192126</td>\n",
       "    </tr>\n",
       "    <tr>\n",
       "      <th>2324</th>\n",
       "      <td>83718.0</td>\n",
       "      <td>92.0</td>\n",
       "      <td>0.254502</td>\n",
       "      <td>0.433754</td>\n",
       "      <td>0.230326</td>\n",
       "      <td>0.354521</td>\n",
       "      <td>0.389091</td>\n",
       "      <td>0.246914</td>\n",
       "      <td>0.590164</td>\n",
       "      <td>1.0</td>\n",
       "      <td>0.687500</td>\n",
       "      <td>0.75</td>\n",
       "      <td>0.75</td>\n",
       "      <td>0.50</td>\n",
       "      <td>0.125</td>\n",
       "      <td>0.000</td>\n",
       "      <td>0.000</td>\n",
       "      <td>0.25</td>\n",
       "      <td>0.316735</td>\n",
       "      <td>0.384101</td>\n",
       "    </tr>\n",
       "    <tr>\n",
       "      <th>2325</th>\n",
       "      <td>83727.0</td>\n",
       "      <td>88.0</td>\n",
       "      <td>0.237095</td>\n",
       "      <td>0.531546</td>\n",
       "      <td>0.174664</td>\n",
       "      <td>0.235452</td>\n",
       "      <td>0.243636</td>\n",
       "      <td>0.222222</td>\n",
       "      <td>0.557377</td>\n",
       "      <td>0.0</td>\n",
       "      <td>0.156250</td>\n",
       "      <td>0.25</td>\n",
       "      <td>0.50</td>\n",
       "      <td>0.75</td>\n",
       "      <td>0.125</td>\n",
       "      <td>0.125</td>\n",
       "      <td>0.125</td>\n",
       "      <td>0.25</td>\n",
       "      <td>0.188022</td>\n",
       "      <td>0.220907</td>\n",
       "    </tr>\n",
       "  </tbody>\n",
       "</table>\n",
       "<p>4417 rows × 20 columns</p>\n",
       "</div>"
      ],
      "text/plain": [
       "         SEQN  LBXAPB     BMXWT     BMXHT    BMXBMI  BMXWAIST  BMDAVSAD  \\\n",
       "0     83733.0   129.0  0.348739  0.533123  0.295585  0.421665  0.541818   \n",
       "1     83734.0   129.0  0.306723  0.512618  0.257198  0.498657  0.516364   \n",
       "2     83737.0    81.0  0.192677  0.195584  0.253359  0.287377  0.389091   \n",
       "3     83741.0    72.0  0.265906  0.438486  0.241843  0.230976  0.247273   \n",
       "4     83749.0    74.0  0.261705  0.380126  0.261036  0.335721  0.341818   \n",
       "...       ...     ...       ...       ...       ...       ...       ...   \n",
       "2321  83711.0   105.0  0.297719  0.294953  0.347409  0.458371  0.501818   \n",
       "2322  83712.0    91.0  0.351140  0.575710  0.280230  0.416294  0.523636   \n",
       "2323  83716.0    49.0  0.276110  0.673502  0.166987  0.198747  0.247273   \n",
       "2324  83718.0    92.0  0.254502  0.433754  0.230326  0.354521  0.389091   \n",
       "2325  83727.0    88.0  0.237095  0.531546  0.174664  0.235452  0.243636   \n",
       "\n",
       "        BPXSY1    BPXDI1  RIAGENDR  RIDAGEYR  RIDRETH1  HSD010  DBQ700  \\\n",
       "0     0.444444  0.721311       0.0  0.578125      0.50    0.25    0.00   \n",
       "1     0.395062  0.377049       0.0  0.968750      0.50    0.75    0.75   \n",
       "2     0.259259  0.475410       1.0  0.875000      0.00    0.50    0.50   \n",
       "3     0.222222  0.573770       0.0  0.093750      0.75    0.50    0.50   \n",
       "4     0.259259  0.459016       1.0  0.015625      0.50    0.25    0.75   \n",
       "...        ...       ...       ...       ...       ...     ...     ...   \n",
       "2321  0.222222  0.622951       1.0  0.343750      0.50    0.50    0.50   \n",
       "2322  0.308642  0.573770       0.0  0.703125      0.50    0.50    0.25   \n",
       "2323  0.185185  0.491803       0.0  0.015625      0.50    0.00    0.00   \n",
       "2324  0.246914  0.590164       1.0  0.687500      0.75    0.75    0.50   \n",
       "2325  0.222222  0.557377       0.0  0.156250      0.25    0.50    0.75   \n",
       "\n",
       "      DLQ020  DLQ050  PAQ665  WHQ030  waist_to_height  sag_to_height  \n",
       "0      0.125   0.125   0.125    0.00         0.344382       0.495299  \n",
       "1      0.125   0.125   0.125    0.25         0.415899       0.478655  \n",
       "2      0.125   0.125   0.125    0.00         0.331223       0.464994  \n",
       "3      0.125   0.125   0.125    0.25         0.207545       0.247222  \n",
       "4      0.125   0.125   0.125    0.25         0.316476       0.354824  \n",
       "...      ...     ...     ...     ...              ...            ...  \n",
       "2321   0.125   0.125   0.125    0.00         0.456817       0.543254  \n",
       "2322   0.125   0.125   0.125    0.00         0.327321       0.464618  \n",
       "2323   0.125   0.125   0.000    0.25         0.125868       0.192126  \n",
       "2324   0.125   0.000   0.000    0.25         0.316735       0.384101  \n",
       "2325   0.125   0.125   0.125    0.25         0.188022       0.220907  \n",
       "\n",
       "[4417 rows x 20 columns]"
      ]
     },
     "execution_count": 278,
     "metadata": {},
     "output_type": "execute_result"
    }
   ],
   "source": [
    "#Normalize all of the columns of the df between 0 and 1 except for columns SEQN, LBDLDL, and LBDLDL_class\n",
    "from sklearn.preprocessing import MinMaxScaler\n",
    "scaler = MinMaxScaler()\n",
    "exclude_columns = ['SEQN', 'LBDLDL', 'LBDLDLSI', 'LBXTR', 'LBXAPB']\n",
    "for col in df_all.columns:\n",
    "    if col not in exclude_columns:\n",
    "        df_all[col] = scaler.fit_transform(df_all[[col]])\n",
    "df_all"
   ]
  },
  {
   "cell_type": "markdown",
   "metadata": {},
   "source": [
    "### NN Model"
   ]
  },
  {
   "cell_type": "code",
   "execution_count": 445,
   "metadata": {},
   "outputs": [],
   "source": [
    "import torch\n",
    "import torch.nn as nn\n",
    "from torch import optim\n",
    "from torch.utils.data import TensorDataset, DataLoader\n",
    "from sklearn.model_selection import train_test_split\n",
    "from sklearn.model_selection import KFold"
   ]
  },
  {
   "cell_type": "code",
   "execution_count": 647,
   "metadata": {},
   "outputs": [],
   "source": [
    "# - BMI\n",
    "# - systolic blood pressure\n",
    "# - diastolic blood pressure\n",
    "# - gender\n",
    "# - age\n",
    "# - waist to height\n",
    "# - saggital diameter to height\n",
    "# - general health condition on a scale of 1-5\n",
    "# - difficulty seeing\n",
    "# - difficulty walking \n",
    "# - taking anemia medicine\n",
    "# - doctor told you jaundice\n",
    "# - doctor told you liver condition\n",
    "# - doctor told you coronary heart disease\n",
    "\n",
    "features = ['BMXBMI', 'BPXSY1', 'BPXDI1', 'RIAGENDR', 'RIDAGEYR', 'sag_to_height', 'waist_to_height',\n",
    "            'HSD010', 'DLQ020', 'DLQ050', 'MCQ053', 'MCQ203', 'MCQ160L', 'MCQ160C']\n"
   ]
  },
  {
   "cell_type": "code",
   "execution_count": 648,
   "metadata": {},
   "outputs": [],
   "source": [
    "X = df_all[features]\n",
    "y = df_all['LBXAPB']"
   ]
  },
  {
   "cell_type": "code",
   "execution_count": 649,
   "metadata": {},
   "outputs": [],
   "source": [
    "train_X, test_X, train_y, test_y = train_test_split(X, y, test_size=0.2, shuffle=True)\n",
    "\n",
    "train_X = torch.tensor(train_X.values).to(torch.float32)\n",
    "test_X = torch.tensor(test_X.values).to(torch.float32)\n",
    "train_y = torch.tensor(train_y.values).to(torch.float32)\n",
    "test_y = torch.tensor(test_y.values).to(torch.float32)\n",
    "\n",
    "# We want the size to be (X, 1) to avoid errors in future\n",
    "train_y = torch.unsqueeze(train_y, 1)\n",
    "test_y = torch.unsqueeze(test_y, 1)\n",
    "\n",
    "# make datasets and dataloaders\n",
    "train_dataset = TensorDataset(train_X, train_y)\n",
    "test_dataset = TensorDataset(test_X, test_y)\n",
    "\n",
    "train_loader = torch.utils.data.DataLoader(train_dataset, batch_size=64, shuffle=True)\n",
    "test_loader = torch.utils.data.DataLoader(test_dataset, batch_size=64, shuffle=True) \n"
   ]
  },
  {
   "cell_type": "code",
   "execution_count": 650,
   "metadata": {},
   "outputs": [],
   "source": [
    "hidden_size = 64\n",
    "model = nn.Sequential(\n",
    "    nn.Linear(train_X.shape[1], hidden_size),\n",
    "    nn.ReLU(),\n",
    "    nn.Linear(hidden_size, 1),\n",
    ")\n",
    "\n",
    "optimizer = torch.optim.RMSprop(model.parameters(), lr=1e-4)\n",
    "loss_fn = nn.MSELoss()"
   ]
  },
  {
   "cell_type": "code",
   "execution_count": 651,
   "metadata": {},
   "outputs": [
    {
     "name": "stdout",
     "output_type": "stream",
     "text": [
      "Epoch 1/15, Train Loss: 9774.8892, Train MAPE: -4.39%, Test Loss: 8895.5986, Test MAPE: 1.82%\n",
      "Epoch 2/15, Train Loss: 8142.3126, Train MAPE: 6.13%, Test Loss: 7608.2723, Test MAPE: 10.47%\n",
      "Epoch 3/15, Train Loss: 6977.1681, Train MAPE: 14.24%, Test Loss: 6491.7506, Test MAPE: 18.23%\n",
      "Epoch 4/15, Train Loss: 5970.3466, Train MAPE: 21.84%, Test Loss: 5582.4754, Test MAPE: 25.68%\n",
      "Epoch 5/15, Train Loss: 5101.5529, Train MAPE: 29.17%, Test Loss: 4694.5118, Test MAPE: 33.00%\n",
      "Epoch 6/15, Train Loss: 4321.3024, Train MAPE: 36.48%, Test Loss: 3955.8309, Test MAPE: 40.16%\n",
      "Epoch 7/15, Train Loss: 3579.4448, Train MAPE: 43.65%, Test Loss: 3236.2663, Test MAPE: 47.29%\n",
      "Epoch 8/15, Train Loss: 2936.5686, Train MAPE: 50.67%, Test Loss: 2734.7855, Test MAPE: 54.27%\n",
      "Epoch 9/15, Train Loss: 2385.0203, Train MAPE: 57.28%, Test Loss: 2133.1329, Test MAPE: 60.77%\n",
      "Epoch 10/15, Train Loss: 1904.0563, Train MAPE: 63.44%, Test Loss: 1668.5668, Test MAPE: 66.50%\n",
      "Epoch 11/15, Train Loss: 1512.0603, Train MAPE: 68.58%, Test Loss: 1378.9562, Test MAPE: 71.06%\n",
      "Epoch 12/15, Train Loss: 1195.2033, Train MAPE: 72.63%, Test Loss: 1076.2673, Test MAPE: 74.33%\n",
      "Epoch 13/15, Train Loss: 970.0228, Train MAPE: 75.28%, Test Loss: 894.1517, Test MAPE: 76.45%\n",
      "Epoch 14/15, Train Loss: 834.7229, Train MAPE: 76.77%, Test Loss: 762.1368, Test MAPE: 77.24%\n",
      "Epoch 15/15, Train Loss: 731.0542, Train MAPE: 77.31%, Test Loss: 715.0053, Test MAPE: 77.28%\n"
     ]
    }
   ],
   "source": [
    "# Training loop\n",
    "num_epochs = 15\n",
    "epsilon = 1e-7  # small constant\n",
    "for epoch in range(num_epochs):\n",
    "    # Training\n",
    "    model.train()\n",
    "    total_loss = 0.0\n",
    "    total_absolute_percentage_error = 0.0\n",
    "    total_samples = 0\n",
    "    for batch_X, batch_y in train_loader:\n",
    "        optimizer.zero_grad()\n",
    "        outputs = model(batch_X)\n",
    "        loss = loss_fn(outputs, batch_y.float())\n",
    "        loss.backward()\n",
    "        optimizer.step()\n",
    "        total_loss += loss.item()\n",
    "        predicted = outputs\n",
    "        absolute_percentage_error = (1 - (abs(predicted - batch_y) / (batch_y + epsilon))) * 100\n",
    "        total_absolute_percentage_error += torch.sum(absolute_percentage_error).item()\n",
    "        total_samples += batch_y.size(0)\n",
    "\n",
    "    train_loss = total_loss / len(train_loader)\n",
    "    train_mape = total_absolute_percentage_error / total_samples\n",
    " \n",
    "    # Testing\n",
    "    model.eval()\n",
    "    total_loss = 0.0\n",
    "    total_absolute_percentage_error = 0.0\n",
    "    total_samples = 0\n",
    "    with torch.no_grad():\n",
    "        for batch_X, batch_y in test_loader:\n",
    "            outputs = model(batch_X)\n",
    "            loss = loss_fn(outputs, batch_y.float())\n",
    "            total_loss += loss.item()\n",
    "            predicted = outputs\n",
    "            absolute_percentage_error = (1 - (abs(predicted - batch_y) / (batch_y + epsilon))) * 100\n",
    "            total_absolute_percentage_error += torch.sum(absolute_percentage_error).item()\n",
    "            total_samples += batch_y.size(0)\n",
    "\n",
    "    test_loss = total_loss / len(test_loader)\n",
    "    test_mape = total_absolute_percentage_error / total_samples\n",
    "\n",
    "    print(f\"Epoch {epoch+1}/{num_epochs}, Train Loss: {train_loss:.4f}, Train MAPE: {train_mape:.2f}%, Test Loss: {test_loss:.4f}, Test MAPE: {test_mape:.2f}%\")\n"
   ]
  },
  {
   "cell_type": "code",
   "execution_count": 594,
   "metadata": {},
   "outputs": [],
   "source": [
    "torch.save(model, 'apob_pred.pth')"
   ]
  },
  {
   "cell_type": "markdown",
   "metadata": {},
   "source": [
    "### Regression Model"
   ]
  },
  {
   "cell_type": "code",
   "execution_count": 202,
   "metadata": {},
   "outputs": [],
   "source": [
    "from sklearn.model_selection import cross_val_score\n",
    "from sklearn.ensemble import RandomForestRegressor\n",
    "from sklearn.ensemble import AdaBoostRegressor\n",
    "from xgboost import XGBRegressor"
   ]
  },
  {
   "cell_type": "code",
   "execution_count": 203,
   "metadata": {},
   "outputs": [],
   "source": [
    "X = df_all[features]\n",
    "y = df_all['LBDLDL']"
   ]
  },
  {
   "cell_type": "code",
   "execution_count": 204,
   "metadata": {},
   "outputs": [],
   "source": [
    "def mean_absolute_percentage_error(y_true, y_pred):\n",
    "    return np.mean(np.abs((y_true - y_pred) / y_true)) * 100"
   ]
  },
  {
   "cell_type": "code",
   "execution_count": 205,
   "metadata": {},
   "outputs": [
    {
     "name": "stdout",
     "output_type": "stream",
     "text": [
      "Best Parameters: {'max_depth': 5, 'min_samples_leaf': 4, 'min_samples_split': 2, 'n_estimators': 50, 'random_state': 42}\n",
      "Best 1 - MAPE: 0.7029533868693598\n"
     ]
    }
   ],
   "source": [
    "from sklearn.model_selection import ParameterGrid\n",
    "\n",
    "param_grid = {\n",
    "    'n_estimators': [50, 100, 150],\n",
    "    'max_depth': [5, 10, 15],\n",
    "    'min_samples_split': [2, 5, 10],\n",
    "    'min_samples_leaf': [1, 2, 4],\n",
    "    'random_state': [42]\n",
    "}\n",
    "\n",
    "param_combinations = ParameterGrid(param_grid)\n",
    "best_score = float('-inf')\n",
    "best_params = None \n",
    "\n",
    "for params in param_combinations:\n",
    "    regressor = RandomForestRegressor(**params)\n",
    "    cv_scores = cross_val_score(regressor, X, y, cv=5, scoring='neg_mean_absolute_percentage_error')\n",
    "    mean_mape = -cv_scores.mean()\n",
    "    \n",
    "    if 1 - mean_mape > best_score:\n",
    "        best_score = 1 - mean_mape\n",
    "        best_params = params\n",
    "\n",
    "print(\"Best Parameters:\", best_params)\n",
    "print(\"Best 1 - MAPE:\", best_score)\n"
   ]
  },
  {
   "cell_type": "code",
   "execution_count": null,
   "metadata": {},
   "outputs": [
    {
     "name": "stdout",
     "output_type": "stream",
     "text": [
      "Best Parameters: {'colsample_bytree': 0.9, 'learning_rate': 0.1, 'max_depth': 5, 'n_estimators': 50, 'random_state': 42, 'subsample': 0.8}\n",
      "Best 1 - MAPE: 0.7240778122571633\n"
     ]
    }
   ],
   "source": [
    "from sklearn.model_selection import ParameterGrid\n",
    "from xgboost import XGBRegressor\n",
    "\n",
    "# Define the parameter grid\n",
    "param_grid = {\n",
    "    'n_estimators': [50, 100, 150],\n",
    "    'max_depth': [5, 10, 15],\n",
    "    'learning_rate': [0.1, 0.01, 0.001],\n",
    "    'subsample': [0.8, 0.9, 1.0],\n",
    "    'colsample_bytree': [0.8, 0.9, 1.0],\n",
    "    'random_state': [42]\n",
    "}\n",
    "\n",
    "param_combinations = ParameterGrid(param_grid)\n",
    "best_score = float('-inf')\n",
    "best_params = None\n",
    "\n",
    "for params in param_combinations:\n",
    "    regressor = XGBRegressor(**params)\n",
    "    cv_scores = cross_val_score(regressor, X, y, cv=5, scoring='neg_mean_absolute_percentage_error')\n",
    "    mean_mape = -cv_scores.mean()\n",
    "    \n",
    "    if 1 - mean_mape > best_score:\n",
    "        best_score = 1 - mean_mape\n",
    "        best_params = params\n",
    "\n",
    "print(\"Best Parameters:\", best_params)\n",
    "print(\"Best 1 - MAPE:\", best_score)\n"
   ]
  }
 ],
 "metadata": {
  "kernelspec": {
   "display_name": "venv",
   "language": "python",
   "name": "python3"
  },
  "language_info": {
   "codemirror_mode": {
    "name": "ipython",
    "version": 3
   },
   "file_extension": ".py",
   "mimetype": "text/x-python",
   "name": "python",
   "nbconvert_exporter": "python",
   "pygments_lexer": "ipython3",
   "version": "3.9.7"
  }
 },
 "nbformat": 4,
 "nbformat_minor": 2
}
